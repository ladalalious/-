{
 "cells": [
  {
   "cell_type": "markdown",
   "id": "0fe1605d",
   "metadata": {},
   "source": [
    "# 线性回归\n",
    "## 简单介绍"
   ]
  },
  {
   "cell_type": "markdown",
   "id": "e6f5f776",
   "metadata": {},
   "source": [
    "在这个编程练习里，你需要学会运用线性回归和利用可视化方式看看线性回归是怎么生效的。<br>开始练习之前，建议把相关网课都过一遍，并且相关问题都要确保搞懂。（因为吴恩达老师的课程是使用Octave和MATLAB，我们使用Python，所以一些编程语言相关的内容可能会有差异，重要的是理解代码背后的思想）"
   ]
  },
  {
   "cell_type": "markdown",
   "id": "550293f8",
   "metadata": {},
   "source": [
    "## 数据集说明"
   ]
  },
  {
   "cell_type": "markdown",
   "id": "09f6264c",
   "metadata": {},
   "source": [
    "ex1data1.txt——单个变量的数据集\n",
    "<br>ex1data2.txt——多个变量的数据集（实际上是两个变量）"
   ]
  },
  {
   "cell_type": "markdown",
   "id": "6ab38337",
   "metadata": {},
   "source": [
    "# 1 简单代码练习"
   ]
  },
  {
   "cell_type": "markdown",
   "id": "4990a23e",
   "metadata": {},
   "source": [
    "输出5 * 5单位矩阵"
   ]
  },
  {
   "cell_type": "code",
   "execution_count": 612,
   "id": "e8fbfec5",
   "metadata": {},
   "outputs": [],
   "source": [
    "#引入必要的库\n",
    "import numpy as np\n",
    "import pandas as pd\n",
    "import matplotlib.pyplot as plt"
   ]
  },
  {
   "cell_type": "code",
   "execution_count": 613,
   "id": "04055e82",
   "metadata": {},
   "outputs": [
    {
     "data": {
      "text/plain": [
       "array([[1., 0., 0., 0., 0.],\n",
       "       [0., 1., 0., 0., 0.],\n",
       "       [0., 0., 1., 0., 0.],\n",
       "       [0., 0., 0., 1., 0.],\n",
       "       [0., 0., 0., 0., 1.]])"
      ]
     },
     "execution_count": 613,
     "metadata": {},
     "output_type": "execute_result"
    }
   ],
   "source": [
    "#单位矩阵一般代号为I，与eye同音\n",
    "A=np.eye(5)\n",
    "A"
   ]
  },
  {
   "cell_type": "markdown",
   "id": "32ae0141",
   "metadata": {},
   "source": [
    "# 2 单变量线性回归"
   ]
  },
  {
   "cell_type": "markdown",
   "id": "cd8074a4",
   "metadata": {},
   "source": [
    "假设你是一个连锁餐饮品牌的CEO，你在考虑在哪些城市开分店能获得更大的收益，然后你有一个有关城市人口和收益的数据集（ex1data1.txt，第一列是人口，第二列是收益），你要通过线性回归来预测下一个要开分店的城市。"
   ]
  },
  {
   "cell_type": "markdown",
   "id": "a8ec84a7",
   "metadata": {},
   "source": [
    "## 2.1 绘制数据"
   ]
  },
  {
   "cell_type": "code",
   "execution_count": 614,
   "id": "18dc585b",
   "metadata": {},
   "outputs": [
    {
     "name": "stdout",
     "output_type": "stream",
     "text": [
      "97\n"
     ]
    },
    {
     "data": {
      "text/html": [
       "<div>\n",
       "<style scoped>\n",
       "    .dataframe tbody tr th:only-of-type {\n",
       "        vertical-align: middle;\n",
       "    }\n",
       "\n",
       "    .dataframe tbody tr th {\n",
       "        vertical-align: top;\n",
       "    }\n",
       "\n",
       "    .dataframe thead th {\n",
       "        text-align: right;\n",
       "    }\n",
       "</style>\n",
       "<table border=\"1\" class=\"dataframe\">\n",
       "  <thead>\n",
       "    <tr style=\"text-align: right;\">\n",
       "      <th></th>\n",
       "      <th>PopulationX_1</th>\n",
       "      <th>Profit</th>\n",
       "    </tr>\n",
       "  </thead>\n",
       "  <tbody>\n",
       "    <tr>\n",
       "      <th>0</th>\n",
       "      <td>6.1101</td>\n",
       "      <td>17.5920</td>\n",
       "    </tr>\n",
       "    <tr>\n",
       "      <th>1</th>\n",
       "      <td>5.5277</td>\n",
       "      <td>9.1302</td>\n",
       "    </tr>\n",
       "    <tr>\n",
       "      <th>2</th>\n",
       "      <td>8.5186</td>\n",
       "      <td>13.6620</td>\n",
       "    </tr>\n",
       "    <tr>\n",
       "      <th>3</th>\n",
       "      <td>7.0032</td>\n",
       "      <td>11.8540</td>\n",
       "    </tr>\n",
       "    <tr>\n",
       "      <th>4</th>\n",
       "      <td>5.8598</td>\n",
       "      <td>6.8233</td>\n",
       "    </tr>\n",
       "  </tbody>\n",
       "</table>\n",
       "</div>"
      ],
      "text/plain": [
       "   PopulationX_1   Profit\n",
       "0         6.1101  17.5920\n",
       "1         5.5277   9.1302\n",
       "2         8.5186  13.6620\n",
       "3         7.0032  11.8540\n",
       "4         5.8598   6.8233"
      ]
     },
     "execution_count": 614,
     "metadata": {},
     "output_type": "execute_result"
    }
   ],
   "source": [
    "dataset='dataset/ex1data1.txt'\n",
    "data = pd.read_csv(dataset, header=None, names=['PopulationX_1', 'Profit'])\n",
    "print(len(data))\n",
    "data.head()"
   ]
  },
  {
   "cell_type": "code",
   "execution_count": 615,
   "id": "7a82ba5d",
   "metadata": {},
   "outputs": [
    {
     "data": {
      "image/png": "[encoded data removed]",
      "text/plain": [
       "<Figure size 432x288 with 1 Axes>"
      ]
     },
     "metadata": {
      "needs_background": "light"
     },
     "output_type": "display_data"
    }
   ],
   "source": [
    "#Matplotlib教程 https://www.runoob.com/matplotlib/matplotlib-tutorial.html\n",
    "\n",
    "#横坐标是城市人口\n",
    "x=np.array([data.PopulationX_1])\n",
    "#纵坐标是小吃店收益\n",
    "y=np.array([data.Profit])\n",
    "plt.scatter(x,y,marker='x',c='red')\n",
    "\n",
    "# plt.xlim(4,24)\n",
    "# plt.ylim(-5,25)\n",
    "#设置坐标刻度，与ex1.pdf文件保持一致\n",
    "plt.yticks([-5,0,5,10,15,20,25])\n",
    "plt.xticks([4,6,8,10,12,14,16,18,20,22])\n",
    "plt.xlabel(\"Population of City in 10,000s\")\n",
    "plt.ylabel(\"Profit in $10,000s\")\n",
    "plt.show()"
   ]
  },
  {
   "cell_type": "markdown",
   "id": "b05a97bb",
   "metadata": {},
   "source": [
    "## 2.2 梯度下降"
   ]
  },
  {
   "cell_type": "markdown",
   "id": "abb4fcf8",
   "metadata": {},
   "source": [
    "这个部分，你需要对数据集使用梯度下降法来求得线性回归参数$\\theta$（向量，包括$\\theta _{0}$和$\\theta _{1}$）<br>（tips：公式两端要有$，编辑可以使用工具 https://www.latexlive.com/home## ）"
   ]
  },
  {
   "cell_type": "markdown",
   "id": "3725e912",
   "metadata": {},
   "source": [
    "### 2.2.1 更新方程式"
   ]
  },
  {
   "cell_type": "markdown",
   "id": "685c3f3a",
   "metadata": {},
   "source": [
    "代价函数公式<br>$J(\\theta)=\\frac{1}{2 m} \\sum_{i=1}^{m}\\left(h_{\\theta}\\left(x^{(i)}\\right)-y^{(i)}\\right)^{2}$<br>（假设函数的输出和实际输出的平均方差）"
   ]
  },
  {
   "cell_type": "markdown",
   "id": "28e17c68",
   "metadata": {},
   "source": [
    "$\\theta =\\begin{bmatrix}\n",
    "  \\theta _{0}&\\theta _{1}\n",
    "\\end{bmatrix}$"
   ]
  },
  {
   "cell_type": "markdown",
   "id": "6f8b8b04",
   "metadata": {},
   "source": [
    "$x=\\begin{bmatrix}\n",
    "  x_{0}&x _{1}\n",
    "\\end{bmatrix}$（$x_{0}=1）$"
   ]
  },
  {
   "cell_type": "markdown",
   "id": "16430e5a",
   "metadata": {},
   "source": [
    "$h_{\\theta}(x)=\\theta^Tx=\\theta_0+\\theta_1x_1$"
   ]
  },
  {
   "cell_type": "markdown",
   "id": "dca32dc7",
   "metadata": {},
   "source": [
    "在批量（batch）梯度下降中，每次迭代对所有参数进行如下更新<br>$\\theta_j=\\theta_j-\\alpha\\frac{1}{m} \\sum_{i=1}^{m} ({h(\\theta )^{(i)}-y^{(i)}})x_j^{(i)}$"
   ]
  },
  {
   "cell_type": "markdown",
   "id": "43ea4de4",
   "metadata": {},
   "source": [
    "注意：在代码实现的时候，因为要考虑$\\theta_0$，所以我们需要对数据集中的输入x增加一列1。"
   ]
  },
  {
   "cell_type": "markdown",
   "id": "5b8bd275",
   "metadata": {},
   "source": [
    "### 2.2.2 变量"
   ]
  },
  {
   "cell_type": "code",
   "execution_count": 616,
   "id": "789cade9",
   "metadata": {},
   "outputs": [
    {
     "data": {
      "text/html": [
       "<div>\n",
       "<style scoped>\n",
       "    .dataframe tbody tr th:only-of-type {\n",
       "        vertical-align: middle;\n",
       "    }\n",
       "\n",
       "    .dataframe tbody tr th {\n",
       "        vertical-align: top;\n",
       "    }\n",
       "\n",
       "    .dataframe thead th {\n",
       "        text-align: right;\n",
       "    }\n",
       "</style>\n",
       "<table border=\"1\" class=\"dataframe\">\n",
       "  <thead>\n",
       "    <tr style=\"text-align: right;\">\n",
       "      <th></th>\n",
       "      <th>X_0</th>\n",
       "      <th>PopulationX_1</th>\n",
       "      <th>Profit</th>\n",
       "    </tr>\n",
       "  </thead>\n",
       "  <tbody>\n",
       "    <tr>\n",
       "      <th>0</th>\n",
       "      <td>1</td>\n",
       "      <td>6.1101</td>\n",
       "      <td>17.5920</td>\n",
       "    </tr>\n",
       "    <tr>\n",
       "      <th>1</th>\n",
       "      <td>1</td>\n",
       "      <td>5.5277</td>\n",
       "      <td>9.1302</td>\n",
       "    </tr>\n",
       "    <tr>\n",
       "      <th>2</th>\n",
       "      <td>1</td>\n",
       "      <td>8.5186</td>\n",
       "      <td>13.6620</td>\n",
       "    </tr>\n",
       "    <tr>\n",
       "      <th>3</th>\n",
       "      <td>1</td>\n",
       "      <td>7.0032</td>\n",
       "      <td>11.8540</td>\n",
       "    </tr>\n",
       "    <tr>\n",
       "      <th>4</th>\n",
       "      <td>1</td>\n",
       "      <td>5.8598</td>\n",
       "      <td>6.8233</td>\n",
       "    </tr>\n",
       "  </tbody>\n",
       "</table>\n",
       "</div>"
      ],
      "text/plain": [
       "   X_0  PopulationX_1   Profit\n",
       "0    1         6.1101  17.5920\n",
       "1    1         5.5277   9.1302\n",
       "2    1         8.5186  13.6620\n",
       "3    1         7.0032  11.8540\n",
       "4    1         5.8598   6.8233"
      ]
     },
     "execution_count": 616,
     "metadata": {},
     "output_type": "execute_result"
    }
   ],
   "source": [
    "#增加x_0=1\n",
    "data.insert(0, 'X_0', 1)\n",
    "data.head()"
   ]
  },
  {
   "cell_type": "code",
   "execution_count": 617,
   "id": "182a3f6a",
   "metadata": {},
   "outputs": [],
   "source": [
    "#前两列赋值给输入矩阵X\n",
    "#numpy中array可以是多维的，但matrix必须是2维的，matrix是array的子集\n",
    "X=np.array(data.iloc[:,0:2])\n",
    "#最后一列赋值给输出向量y\n",
    "y=np.array(data.iloc[:,2:3])"
   ]
  },
  {
   "cell_type": "code",
   "execution_count": 618,
   "id": "8fddfa49",
   "metadata": {},
   "outputs": [],
   "source": [
    "#theta初始值赋为0\n",
    "theta=np.zeros(2)\n",
    "#迭代次数\n",
    "iterations=1500\n",
    "#学习率\n",
    "alpha=0.01\n",
    "#代价函数迭代数据\n",
    "cost=np.array([])"
   ]
  },
  {
   "cell_type": "markdown",
   "id": "42e6c26b",
   "metadata": {},
   "source": [
    "### 2.2.3 计算代价函数"
   ]
  },
  {
   "cell_type": "code",
   "execution_count": 619,
   "id": "e8cab85f",
   "metadata": {},
   "outputs": [],
   "source": [
    "#代价函数计算\n",
    "def computeCost(X,theta,y):\n",
    "    h=np.dot(X,theta.T)\n",
    "    m=len(X)\n",
    "    h=h.reshape(m,1)\n",
    "#     print(h-y)\n",
    "#     print((np.power((h-y),2)))\n",
    "    cost=((np.power((h-y),2)).sum())/(2*m)\n",
    "#     print(cost)\n",
    "    return cost"
   ]
  },
  {
   "cell_type": "code",
   "execution_count": 620,
   "id": "82b0c554",
   "metadata": {},
   "outputs": [
    {
     "data": {
      "text/plain": [
       "32.072733877455676"
      ]
     },
     "execution_count": 620,
     "metadata": {},
     "output_type": "execute_result"
    }
   ],
   "source": [
    "computeCost(X,theta,y)"
   ]
  },
  {
   "cell_type": "markdown",
   "id": "c49980b0",
   "metadata": {},
   "source": [
    "### 2.2.4 梯度下降"
   ]
  },
  {
   "cell_type": "code",
   "execution_count": 621,
   "id": "1b6380f9",
   "metadata": {},
   "outputs": [],
   "source": [
    "#梯度下降函数\n",
    "def gradientDescent(X,theta,y,alpha,iterations,cost):\n",
    "    m=len(X)\n",
    "    for i in range(iterations):\n",
    "        h=np.dot(X,theta.T)\n",
    "        h=h.reshape(m,1)\n",
    "        error=h-y\n",
    "        \n",
    "        for j in range(len(theta)):\n",
    "            delta=((np.multiply(error,X[:,j].reshape(m,1))).sum())*alpha/m\n",
    "            theta[j]=theta[j]-delta\n",
    "            \n",
    "        cost=np.append(cost,computeCost(X,theta,y))\n",
    "    \n",
    "#     print(cost)\n",
    "    lastCost=computeCost(X,theta,y)\n",
    "    return theta,cost,lastCost\n",
    "            "
   ]
  },
  {
   "cell_type": "code",
   "execution_count": 622,
   "id": "472ab700",
   "metadata": {},
   "outputs": [
    {
     "name": "stdout",
     "output_type": "stream",
     "text": [
      "[-3.63029144  1.16636235]\n",
      "1500\n",
      "4.483388256587726\n"
     ]
    }
   ],
   "source": [
    "theta,cost,lastCost=gradientDescent(X,theta,y,alpha,iterations,cost)\n",
    "print(theta)\n",
    "print(len(cost))\n",
    "print(lastCost)"
   ]
  },
  {
   "cell_type": "markdown",
   "id": "64c0df6d",
   "metadata": {},
   "source": [
    "观察代价函数是否随着迭代次数的增加而减少"
   ]
  },
  {
   "cell_type": "code",
   "execution_count": 623,
   "id": "64061ae0",
   "metadata": {},
   "outputs": [
    {
     "data": {
      "image/png": "[encoded data removed]",
      "text/plain": [
       "<Figure size 432x288 with 1 Axes>"
      ]
     },
     "metadata": {
      "needs_background": "light"
     },
     "output_type": "display_data"
    }
   ],
   "source": [
    "#横坐标是迭代次数\n",
    "x=np.array(range(iterations))\n",
    "#纵坐标是代价函数\n",
    "y=cost\n",
    "plt.plot(x,y)\n",
    "\n",
    "# plt.xlim(4,24)\n",
    "# plt.ylim(-5,25)\n",
    "#设置坐标刻度，与ex1.pdf文件保持一致\n",
    "# plt.yticks([-5,0,5,10,15,20,25])\n",
    "# plt.xticks([4,6,8,10,12,14,16,18,20,22])\n",
    "plt.xlabel(\"iterations\")\n",
    "plt.ylabel(\"cost\")\n",
    "plt.show()"
   ]
  },
  {
   "cell_type": "markdown",
   "id": "bb4c45cf",
   "metadata": {},
   "source": [
    "## 2.3 调试"
   ]
  },
  {
   "cell_type": "code",
   "execution_count": 624,
   "id": "c0811242",
   "metadata": {},
   "outputs": [
    {
     "data": {
      "image/png": "[encoded data removed]",
      "text/plain": [
       "<Figure size 432x288 with 1 Axes>"
      ]
     },
     "metadata": {
      "needs_background": "light"
     },
     "output_type": "display_data"
    }
   ],
   "source": [
    "#横坐标是城市人口\n",
    "x1=np.array([data.PopulationX_1])\n",
    "#纵坐标是小吃店收益\n",
    "y1=np.array([data.Profit])\n",
    "plt.scatter(x1,y1,marker='x',c='red')\n",
    "\n",
    "x2=np.linspace(data.PopulationX_1.min(), data.PopulationX_1.max(), 100)\n",
    "y2=theta[0]+x2*theta[1]\n",
    "plt.plot(x2,y2)\n",
    "\n",
    "# plt.xlim(4,24)\n",
    "# plt.ylim(-5,25)\n",
    "#设置坐标刻度，与ex1.pdf文件保持一致\n",
    "plt.yticks([-5,0,5,10,15,20,25])\n",
    "plt.xticks([4,6,8,10,12,14,16,18,20,22])\n",
    "plt.xlabel(\"Population of City in 10,000s\")\n",
    "plt.ylabel(\"Profit in $10,000s\")\n",
    "plt.show()"
   ]
  },
  {
   "cell_type": "code",
   "execution_count": null,
   "id": "3b2dd89d",
   "metadata": {},
   "outputs": [],
   "source": []
  }
 ],
 "metadata": {
  "kernelspec": {
   "display_name": "Python 3 (ipykernel)",
   "language": "python",
   "name": "python3"
  },
  "language_info": {
   "codemirror_mode": {
    "name": "ipython",
    "version": 3
   },
   "file_extension": ".py",
   "mimetype": "text/x-python",
   "name": "python",
   "nbconvert_exporter": "python",
   "pygments_lexer": "ipython3",
   "version": "3.9.7"
  }
 },
 "nbformat": 4,
 "nbformat_minor": 5
}
